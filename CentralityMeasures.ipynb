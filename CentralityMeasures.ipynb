{
 "cells": [
  {
   "cell_type": "markdown",
   "id": "b25afa52-c94d-4b62-a364-4c8e811df9f7",
   "metadata": {},
   "source": [
    "# DS8017 - Assignment 3"
   ]
  },
  {
   "cell_type": "markdown",
   "id": "2ae675ca-6f15-4713-b727-eeb1efee9285",
   "metadata": {},
   "source": [
    "### Nujaimah Ahmed - 500955409"
   ]
  },
  {
   "cell_type": "code",
   "execution_count": 1,
   "id": "88e387a2-cdc9-48db-a0c7-9f0088121d3f",
   "metadata": {},
   "outputs": [],
   "source": [
    "## get required datasets for Assignment\n",
    "datadir = \"/Users/nujaimah/Desktop/Assignment3\""
   ]
  },
  {
   "cell_type": "code",
   "execution_count": 2,
   "id": "66d966f8-6abc-4925-aabe-f523e90222af",
   "metadata": {},
   "outputs": [],
   "source": [
    "import igraph as ig\n",
    "import numpy as np\n",
    "import pandas as pd\n",
    "import matplotlib.pyplot as plt\n",
    "from statistics import mode\n",
    "import random"
   ]
  },
  {
   "cell_type": "code",
   "execution_count": 3,
   "id": "871c91d9-66c1-45db-9ea1-5f63bad3d1f6",
   "metadata": {},
   "outputs": [],
   "source": [
    "## define colors from pale to dark\n",
    "colors = [\"gainsboro\", \"silver\", \"darkgray\", \"dimgray\", \"black\"]\n",
    "\n",
    "## we will use 3 node sizes:\n",
    "node_sizes = [6, 9, 12]"
   ]
  },
  {
   "cell_type": "markdown",
   "id": "8cf17e45-662b-409f-9105-85bb7bca17ad",
   "metadata": {},
   "source": [
    "## Question 1)"
   ]
  },
  {
   "cell_type": "code",
   "execution_count": 4,
   "id": "ed5fe50f-a402-450a-9a4d-dd28d9ad61c1",
   "metadata": {},
   "outputs": [
    {
     "data": {
      "text/html": [
       "<div>\n",
       "<style scoped>\n",
       "    .dataframe tbody tr th:only-of-type {\n",
       "        vertical-align: middle;\n",
       "    }\n",
       "\n",
       "    .dataframe tbody tr th {\n",
       "        vertical-align: top;\n",
       "    }\n",
       "\n",
       "    .dataframe thead th {\n",
       "        text-align: right;\n",
       "    }\n",
       "</style>\n",
       "<table border=\"1\" class=\"dataframe\">\n",
       "  <thead>\n",
       "    <tr style=\"text-align: right;\">\n",
       "      <th></th>\n",
       "      <th>orig_airport</th>\n",
       "      <th>dest_airport</th>\n",
       "      <th>total_passengers</th>\n",
       "    </tr>\n",
       "  </thead>\n",
       "  <tbody>\n",
       "    <tr>\n",
       "      <th>0</th>\n",
       "      <td>SFO</td>\n",
       "      <td>LAX</td>\n",
       "      <td>1442105</td>\n",
       "    </tr>\n",
       "    <tr>\n",
       "      <th>1</th>\n",
       "      <td>LAX</td>\n",
       "      <td>SFO</td>\n",
       "      <td>1438639</td>\n",
       "    </tr>\n",
       "    <tr>\n",
       "      <th>2</th>\n",
       "      <td>MCO</td>\n",
       "      <td>ATL</td>\n",
       "      <td>1436625</td>\n",
       "    </tr>\n",
       "    <tr>\n",
       "      <th>3</th>\n",
       "      <td>ATL</td>\n",
       "      <td>MCO</td>\n",
       "      <td>1424069</td>\n",
       "    </tr>\n",
       "    <tr>\n",
       "      <th>4</th>\n",
       "      <td>LAX</td>\n",
       "      <td>JFK</td>\n",
       "      <td>1277731</td>\n",
       "    </tr>\n",
       "  </tbody>\n",
       "</table>\n",
       "</div>"
      ],
      "text/plain": [
       "  orig_airport dest_airport  total_passengers\n",
       "0          SFO          LAX           1442105\n",
       "1          LAX          SFO           1438639\n",
       "2          MCO          ATL           1436625\n",
       "3          ATL          MCO           1424069\n",
       "4          LAX          JFK           1277731"
      ]
     },
     "execution_count": 4,
     "metadata": {},
     "output_type": "execute_result"
    }
   ],
   "source": [
    "## read edges and build weighted directed graph\n",
    "df = pd.read_csv(datadir + \"/connections.csv\")\n",
    "g_airport = ig.Graph.TupleList([tuple(x) for x in df.values], directed=True, edge_attrs=[\"weight\"])\n",
    "df.head()  ## look at a few edges"
   ]
  },
  {
   "cell_type": "code",
   "execution_count": 5,
   "id": "b161bdca-f5c4-4c70-b98c-f87f2d78d5dc",
   "metadata": {},
   "outputs": [
    {
     "data": {
      "text/html": [
       "<div>\n",
       "<style scoped>\n",
       "    .dataframe tbody tr th:only-of-type {\n",
       "        vertical-align: middle;\n",
       "    }\n",
       "\n",
       "    .dataframe tbody tr th {\n",
       "        vertical-align: top;\n",
       "    }\n",
       "\n",
       "    .dataframe thead th {\n",
       "        text-align: right;\n",
       "    }\n",
       "</style>\n",
       "<table border=\"1\" class=\"dataframe\">\n",
       "  <thead>\n",
       "    <tr style=\"text-align: right;\">\n",
       "      <th></th>\n",
       "      <th>airport</th>\n",
       "      <th>lon</th>\n",
       "      <th>lat</th>\n",
       "      <th>state</th>\n",
       "      <th>city</th>\n",
       "    </tr>\n",
       "  </thead>\n",
       "  <tbody>\n",
       "    <tr>\n",
       "      <th>0</th>\n",
       "      <td>ABE</td>\n",
       "      <td>-75.440804</td>\n",
       "      <td>40.652100</td>\n",
       "      <td>PA</td>\n",
       "      <td>Allentown</td>\n",
       "    </tr>\n",
       "    <tr>\n",
       "      <th>1</th>\n",
       "      <td>ABI</td>\n",
       "      <td>-99.681900</td>\n",
       "      <td>32.411301</td>\n",
       "      <td>TX</td>\n",
       "      <td>Abilene</td>\n",
       "    </tr>\n",
       "    <tr>\n",
       "      <th>2</th>\n",
       "      <td>ABQ</td>\n",
       "      <td>-106.609001</td>\n",
       "      <td>35.040199</td>\n",
       "      <td>NM</td>\n",
       "      <td>Albuquerque</td>\n",
       "    </tr>\n",
       "    <tr>\n",
       "      <th>3</th>\n",
       "      <td>ABR</td>\n",
       "      <td>-98.421799</td>\n",
       "      <td>45.449100</td>\n",
       "      <td>SD</td>\n",
       "      <td>Aberdeen</td>\n",
       "    </tr>\n",
       "    <tr>\n",
       "      <th>4</th>\n",
       "      <td>ABY</td>\n",
       "      <td>-84.194504</td>\n",
       "      <td>31.535500</td>\n",
       "      <td>GA</td>\n",
       "      <td>Albany</td>\n",
       "    </tr>\n",
       "  </tbody>\n",
       "</table>\n",
       "</div>"
      ],
      "text/plain": [
       "  airport         lon        lat state         city\n",
       "0     ABE  -75.440804  40.652100    PA    Allentown\n",
       "1     ABI  -99.681900  32.411301    TX      Abilene\n",
       "2     ABQ -106.609001  35.040199    NM  Albuquerque\n",
       "3     ABR  -98.421799  45.449100    SD     Aberdeen\n",
       "4     ABY  -84.194504  31.535500    GA       Albany"
      ]
     },
     "execution_count": 5,
     "metadata": {},
     "output_type": "execute_result"
    }
   ],
   "source": [
    "## read vertex attributes and add to graph\n",
    "Attr = pd.read_csv(datadir + \"/airports_loc.csv\")\n",
    "\n",
    "## map airports in Attr to the node order in graph g\n",
    "lookup = {k: v for v, k in enumerate(Attr[\"airport\"])}\n",
    "l = [lookup[x] for x in g_airport.vs()[\"name\"]]\n",
    "\n",
    "## save lat/lon as tuples for each node:\n",
    "g_airport.vs()[\"layout\"] = [(Attr[\"lon\"][i], Attr[\"lat\"][i]) for i in l]\n",
    "g_airport.vs()[\"state\"] = [Attr[\"state\"][i] for i in l]\n",
    "g_airport.vs()[\"city\"] = [Attr[\"city\"][i] for i in l]\n",
    "Attr.head()  ## first few rows in Attr"
   ]
  },
  {
   "cell_type": "code",
   "execution_count": 6,
   "id": "0c4df2f4-8b77-4916-90eb-cfb4d272a7d7",
   "metadata": {},
   "outputs": [
    {
     "name": "stdout",
     "output_type": "stream",
     "text": [
      "Airport graph: 464 nodes and 12000 directed edges\n"
     ]
    }
   ],
   "source": [
    "## add a few more attributes for visualization\n",
    "g_airport.vs()[\"size\"] = node_sizes[1]\n",
    "g_airport.vs()[\"color\"] = colors[3]\n",
    "g_airport.es()[\"color\"] = colors[0]\n",
    "g_airport.es()[\"arrow_size\"] = 0.5\n",
    "print(\"Airport graph:\", g_airport.vcount(), \"nodes and\", g_airport.ecount(), \"directed edges\")"
   ]
  },
  {
   "cell_type": "code",
   "execution_count": 7,
   "id": "aec1517c-0790-4aa1-bdda-2ea4018be533",
   "metadata": {},
   "outputs": [
    {
     "name": "stdout",
     "output_type": "stream",
     "text": [
      "13 nodes and 50 directed edges\n"
     ]
    }
   ],
   "source": [
    "## Build smaller subgraph 'G' for California\n",
    "g_NY = g_airport.subgraph([v for v in g_airport.vs() if v[\"state\"] == \"NY\"])\n",
    "\n",
    "## drop isolated vertices (i.e. without in-state connections)\n",
    "g_NY = g_NY.subgraph([v for v in g_NY.vs() if v.degree() > 0])\n",
    "\n",
    "## remove loops if any\n",
    "g_NY = g_NY.simplify(loops=True, multiple=False)\n",
    "print(g_NY.vcount(), \"nodes and\", g_NY.ecount(), \"directed edges\")"
   ]
  },
  {
   "cell_type": "code",
   "execution_count": 8,
   "id": "d42b57a6-f76a-4642-946b-a0041a13f3d0",
   "metadata": {},
   "outputs": [],
   "source": [
    "## compute the normalized edge weights\n",
    "max_weight = np.max(g_NY.es[\"weight\"])\n",
    "g_NY.es()[\"normalized_weight\"] = [w / max_weight for w in g_NY.es()[\"weight\"]]\n",
    "\n",
    "## directed degree centrality\n",
    "def degree_centrality(g, weights=None):\n",
    "    n = g.vcount()\n",
    "    if g.is_directed():\n",
    "        dc = [\n",
    "           ## sum in degrees, out degrees of every node\n",
    "           ## divide by n - 1 = max # of neighbours node could have\n",
    "           ## divide by 2 because of in and out degrees considered\n",
    "            sum(x) / (2 * (n - 1))\n",
    "            for x in zip(\n",
    "                g.strength(mode=\"in\", weights=weights), g.strength(mode=\"out\", weights=weights)\n",
    "            )\n",
    "        ]\n",
    "    else:\n",
    "        ## undirected graph, don't divide by 2 (just sum edge weights)\n",
    "        dc = [x / (n - 1) for x in g.strength(weights=weights)]\n",
    "    return dc\n",
    "\n",
    "\n",
    "## use distance = number of nodes below if disconnected\n",
    "def closeness_centrality(g):\n",
    "    n = g.vcount()\n",
    "    ## for given pair of nodes how many hops away they are\n",
    "    D = np.array(g.distances(mode=\"all\"))\n",
    "    ## if distances are infinite, i.e. in different connected components, set distance to n = total # of nodes (one possible solution for multiple connected components)\n",
    "    D[D == np.inf] = n\n",
    "    return [(n - 1) / sum(D[i]) for i in range(len(D))]"
   ]
  },
  {
   "cell_type": "code",
   "execution_count": null,
   "id": "dfaff8ff-d426-420c-a2f7-f21163785de9",
   "metadata": {},
   "outputs": [],
   "source": [
    "## compute several centrality measures for the California subgraph g_CA\n",
    "df_central = pd.DataFrame(\n",
    "    {\n",
    "        \"airport\": g_NY.vs()[\"name\"],\n",
    "        \"degree\": degree_centrality(g_NY, weights=\"normalized_weight\"),\n",
    "        \"pagerank\": g_NY.pagerank(weights=\"weight\"),\n",
    "        \"authority\": g_NY.authority_score(weights=\"weight\"),\n",
    "        \"hub\": g_NY.hub_score(weights=\"weight\"),\n",
    "        \"between\": g_NY.betweenness(),\n",
    "        \"harmonic\": g_NY.harmonic_centrality(),\n",
    "        \"closeness\": closeness_centrality(g_NY),\n",
    "        \"eccentricity\": g_NY.eccentricity(),\n",
    "    }\n",
    ")\n",
    "\n",
    "## normalize the betweenness values, not normalized in igraph\n",
    "n = g_NY.vcount()\n",
    "df_central[\"between\"] = [2 * x / ((n - 1) * (n - 2)) for x in df_central[\"between\"]]\n",
    "\n",
    "## sort w.r.t. degree centrality, look at top airports\n",
    "df_central = df_central.sort_values(by=\"degree\", ascending=False)\n",
    "df_central.head(5)"
   ]
  },
  {
   "cell_type": "markdown",
   "id": "e387f8e2-c0f3-4608-b1a3-cfe67c5ee610",
   "metadata": {},
   "source": [
    "### Question 1 Analysis"
   ]
  },
  {
   "cell_type": "markdown",
   "id": "650ee0e0-d9a9-4e1c-94e7-06e2af4d8980",
   "metadata": {},
   "source": [
    "ads"
   ]
  },
  {
   "cell_type": "markdown",
   "id": "b8832a9c-c07b-4226-9b49-31f96b48f8ab",
   "metadata": {},
   "source": [
    "## Question 2)"
   ]
  },
  {
   "cell_type": "markdown",
   "id": "0cbe28fe-4ec1-454f-8fab-5bf89f0fdaf4",
   "metadata": {},
   "source": [
    "## Question 3)"
   ]
  },
  {
   "cell_type": "markdown",
   "id": "517d8a04-a296-44b1-a868-2317486da38f",
   "metadata": {},
   "source": [
    "## Question 5)"
   ]
  },
  {
   "cell_type": "code",
   "execution_count": null,
   "id": "ce2c5518",
   "metadata": {},
   "outputs": [],
   "source": []
  }
 ],
 "metadata": {
  "kernelspec": {
   "display_name": "Python [conda env:complexnetworks] *",
   "language": "python",
   "name": "conda-env-complexnetworks-py"
  },
  "language_info": {
   "codemirror_mode": {
    "name": "ipython",
    "version": 3
   },
   "file_extension": ".py",
   "mimetype": "text/x-python",
   "name": "python",
   "nbconvert_exporter": "python",
   "pygments_lexer": "ipython3",
   "version": "3.11.11"
  }
 },
 "nbformat": 4,
 "nbformat_minor": 5
}
