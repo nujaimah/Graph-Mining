{
 "cells": [
  {
   "cell_type": "markdown",
   "id": "083a2f65",
   "metadata": {},
   "source": [
    "# Graph Theory"
   ]
  },
  {
   "cell_type": "code",
   "execution_count": 284,
   "id": "32bbe579",
   "metadata": {},
   "outputs": [],
   "source": [
    "## import required packages for Assignment\n",
    "import igraph as ig\n",
    "import numpy as np\n",
    "import pandas as pd\n",
    "import matplotlib.pyplot as plt\n",
    "from sklearn.linear_model import LinearRegression\n",
    "from collections import Counter\n",
    "from statsmodels.distributions.empirical_distribution import ECDF as ecdf\n",
    "import random\n",
    "from math import radians, sin, cos, sqrt, atan2\n",
    "from geopy.distance import geodesic"
   ]
  },
  {
   "cell_type": "code",
   "execution_count": 110,
   "id": "fe2f1daa",
   "metadata": {},
   "outputs": [],
   "source": [
    "## retrieve datasets\n",
    "datadir = \"../Datasets/\""
   ]
  },
  {
   "cell_type": "markdown",
   "id": "de1ec60d",
   "metadata": {},
   "source": [
    "### Question 2) "
   ]
  },
  {
   "cell_type": "code",
   "execution_count": 111,
   "id": "c6c93fb1",
   "metadata": {},
   "outputs": [],
   "source": [
    "## load nlinks csv file\n",
    "df = pd.read_csv(datadir + \"GridNorthAmerica/gridkit_north_america-highvoltage-links.csv\")\n",
    "## retrieve edge list by extracting info from the columns with edges\n",
    "edges = df[['v_id_1', 'v_id_2']]\n",
    "## reformat data frame in readable format for Read_Ncol (.txt file with no headers and no index)\n",
    "edges.to_csv(\"edges.txt\", sep = \" \", index = False, header = False)\n",
    "\n",
    "## create undirected, simple graph using edge list for the network\n",
    "NorthAmericaGrid = ig.Graph.Read_Ncol(\"edges.txt\", directed = False)\n",
    "NorthAmericaGrid = NorthAmericaGrid.simplify()"
   ]
  },
  {
   "cell_type": "code",
   "execution_count": 330,
   "id": "2c77e631",
   "metadata": {},
   "outputs": [],
   "source": [
    "## read nodes and their attributes\n",
    "Attr = pd.read_csv(datadir + \"GridNorthAmerica/gridkit_north_america-highvoltage-vertices.csv\")\n",
    "## Attr.head()\n",
    "## retrieve list of attributes that are desired\n",
    "attributes = Attr[['v_id', 'lon', 'lat', 'typ']]\n",
    "## attributes.head()"
   ]
  },
  {
   "cell_type": "code",
   "execution_count": 117,
   "id": "33d33c63",
   "metadata": {},
   "outputs": [],
   "source": [
    "## build attribute dictionaries of each node\n",
    "Longitude = dict(zip(attributes.v_id, attributes.lon))\n",
    "Latitude = dict(zip(attributes.v_id, attributes.lat))\n",
    "Type = dict(zip(attributes.v_id, attributes.typ))\n",
    "## Voltage = dict(zip(Attr.v_id, Attr.voltage))\n",
    "## Frequency = dict(zip(Attr.v_id, Attr.frequency))\n",
    "## Name = dict(zip(Attr.v_id, Attr.name))\n",
    "## Operator = dict(zip(Attr.v_id, Attr.operator))\n",
    "## Ref = dict(zip(Attr.v_id, Attr.ref))\n",
    "## Wkrt = dict(zip(Attr.v_id, Attr.wkt_srid_4326))"
   ]
  },
  {
   "cell_type": "code",
   "execution_count": 118,
   "id": "af006d4b",
   "metadata": {},
   "outputs": [],
   "source": [
    "## map names to integers for easier referencing\n",
    "NorthAmericaGrid.vs[\"id\"] = [int(x) for x in NorthAmericaGrid.vs[\"name\"]]\n",
    "\n",
    "## save longitude, latitude and node type in the graph\n",
    "NorthAmericaGrid.vs[\"longitude\"] = [Longitude[i] for i in NorthAmericaGrid.vs[\"id\"]]\n",
    "NorthAmericaGrid.vs[\"latitude\"] = [Latitude[i] for i in NorthAmericaGrid.vs[\"id\"]]\n",
    "NorthAmericaGrid.vs[\"type\"] = [Type[i] for i in NorthAmericaGrid.vs[\"id\"]]"
   ]
  },
  {
   "cell_type": "code",
   "execution_count": 119,
   "id": "ffac6820",
   "metadata": {},
   "outputs": [],
   "source": [
    "## compute and store basic statistics in a dataframe\n",
    "def baseStats(G):\n",
    "    deg = G.degree()\n",
    "    return [\n",
    "        G.vcount(),\n",
    "        G.ecount(),\n",
    "        np.min(deg),\n",
    "        np.mean(deg),\n",
    "        np.median(deg),\n",
    "        np.quantile(deg, 0.99),\n",
    "        np.max(deg),\n",
    "        G.diameter(),\n",
    "        np.max(G.connected_components().membership) + 1,\n",
    "        G.connected_components().giant().vcount(),\n",
    "        sum([x == 0 for x in deg]),\n",
    "        G.transitivity_undirected(mode = \"nan\"),\n",
    "        G.transitivity_avglocal_undirected(mode = \"nan\"),\n",
    "    ]"
   ]
  },
  {
   "cell_type": "code",
   "execution_count": 121,
   "id": "ed420266",
   "metadata": {},
   "outputs": [
    {
     "name": "stdout",
     "output_type": "stream",
     "text": [
      "CPU times: user 14.7 s, sys: 312 ms, total: 15 s\n",
      "Wall time: 17.9 s\n"
     ]
    }
   ],
   "source": [
    "%%time\n",
    "## compute stats for the North America graph\n",
    "S = []\n",
    "S.append([\"North America\"] + baseStats(NorthAmericaGrid))"
   ]
  },
  {
   "cell_type": "code",
   "execution_count": 122,
   "id": "a010e8b0",
   "metadata": {},
   "outputs": [
    {
     "data": {
      "text/html": [
       "<div>\n",
       "<style scoped>\n",
       "    .dataframe tbody tr th:only-of-type {\n",
       "        vertical-align: middle;\n",
       "    }\n",
       "\n",
       "    .dataframe tbody tr th {\n",
       "        vertical-align: top;\n",
       "    }\n",
       "\n",
       "    .dataframe thead th {\n",
       "        text-align: right;\n",
       "    }\n",
       "</style>\n",
       "<table border=\"1\" class=\"dataframe\">\n",
       "  <thead>\n",
       "    <tr style=\"text-align: right;\">\n",
       "      <th></th>\n",
       "      <th>0</th>\n",
       "    </tr>\n",
       "  </thead>\n",
       "  <tbody>\n",
       "    <tr>\n",
       "      <th>network</th>\n",
       "      <td>North America</td>\n",
       "    </tr>\n",
       "    <tr>\n",
       "      <th># nodes</th>\n",
       "      <td>16167</td>\n",
       "    </tr>\n",
       "    <tr>\n",
       "      <th># edges</th>\n",
       "      <td>20242</td>\n",
       "    </tr>\n",
       "    <tr>\n",
       "      <th>$\\delta$</th>\n",
       "      <td>1</td>\n",
       "    </tr>\n",
       "    <tr>\n",
       "      <th>$\\langle k\\rangle$</th>\n",
       "      <td>2.504113</td>\n",
       "    </tr>\n",
       "    <tr>\n",
       "      <th>median degree</th>\n",
       "      <td>2.0</td>\n",
       "    </tr>\n",
       "    <tr>\n",
       "      <th>$d_{quant_{99}}$</th>\n",
       "      <td>7.0</td>\n",
       "    </tr>\n",
       "    <tr>\n",
       "      <th>$\\Delta$</th>\n",
       "      <td>22</td>\n",
       "    </tr>\n",
       "    <tr>\n",
       "      <th>diameter</th>\n",
       "      <td>138</td>\n",
       "    </tr>\n",
       "    <tr>\n",
       "      <th># components</th>\n",
       "      <td>34</td>\n",
       "    </tr>\n",
       "    <tr>\n",
       "      <th>the largest component</th>\n",
       "      <td>14990</td>\n",
       "    </tr>\n",
       "    <tr>\n",
       "      <th># isolates</th>\n",
       "      <td>0</td>\n",
       "    </tr>\n",
       "    <tr>\n",
       "      <th>$C_{glob}$</th>\n",
       "      <td>0.102377</td>\n",
       "    </tr>\n",
       "    <tr>\n",
       "      <th>$C_{loc}$</th>\n",
       "      <td>0.104157</td>\n",
       "    </tr>\n",
       "  </tbody>\n",
       "</table>\n",
       "</div>"
      ],
      "text/plain": [
       "                                   0\n",
       "network                North America\n",
       "# nodes                        16167\n",
       "# edges                        20242\n",
       "$\\delta$                           1\n",
       "$\\langle k\\rangle$          2.504113\n",
       "median degree                    2.0\n",
       "$d_{quant_{99}}$                 7.0\n",
       "$\\Delta$                          22\n",
       "diameter                         138\n",
       "# components                      34\n",
       "the largest component          14990\n",
       "# isolates                         0\n",
       "$C_{glob}$                  0.102377\n",
       "$C_{loc}$                   0.104157"
      ]
     },
     "execution_count": 122,
     "metadata": {},
     "output_type": "execute_result"
    }
   ],
   "source": [
    "## store in a dataframe and display results\n",
    "df = pd.DataFrame(\n",
    "    S,\n",
    "    columns = [\n",
    "        \"network\",\n",
    "        \"# nodes\",\n",
    "        \"# edges\",\n",
    "        r\"$\\delta$\",\n",
    "        r\"$\\langle k\\rangle$\",\n",
    "        r\"median degree\",\n",
    "        r\"$d_{quant_{99}}$\",\n",
    "        r\"$\\Delta$\",\n",
    "        \"diameter\",\n",
    "        \"# components\",\n",
    "        \"the largest component\",\n",
    "        \"# isolates\",\n",
    "        r\"$C_{glob}$\",\n",
    "        r\"$C_{loc}$\",\n",
    "    ],\n",
    ").transpose()\n",
    "df"
   ]
  },
  {
   "cell_type": "markdown",
   "id": "e901dd62",
   "metadata": {},
   "source": [
    "### Question 1 Analysis"
   ]
  },
  {
   "cell_type": "markdown",
   "id": "8af73c2f",
   "metadata": {},
   "source": [
    "Based on the results from the output of the code in Question 1, the North America Grid network has 16,167 nodes and 20,242 edges. The smallest degree is 1, with median degree of 2, average degree of 2.5, and largest degree of 22. The median degree is smaller than the average degree, and the overall degree distribution can be said to be uniform and has regular patterns. The diameter is 138, which can mean that the nodes are not as tightly connected to each other. The number of connected components is 34. The largest component is 14,990 which means that the giant component has 14,990 nodes. There are no nodes with degree 0 meaning that all nodes are connected. The global and local clustering coefficients are very close in value, which can indicate that every node in the network has a very similar level of clustering to the overall network average, similar to d-regular graphs. \n",
    "\n",
    "In comparison to the Europe Grid network, the North America network has more nodes and edges, with similar smallest, average, median, and max degrees. The diameter is smaller for the North America Grid than the Europe grid, meaning that the nodes are more tightly connected for the North America network. The Europe Grid network has a larger numbrer of connected components, but has a smaller giant component. Both networks have no nodes with degree 0. The North America network has a slightly large global clustering coefficient, and the Europe grid has a alrger local clustering coefficient."
   ]
  },
  {
   "cell_type": "markdown",
   "id": "61a1030b",
   "metadata": {},
   "source": [
    "### Question 4)"
   ]
  },
  {
   "cell_type": "markdown",
   "id": "b56aeb20",
   "metadata": {},
   "source": [
    "#### 4a)"
   ]
  },
  {
   "cell_type": "code",
   "execution_count": 338,
   "id": "6bebbc34",
   "metadata": {},
   "outputs": [],
   "source": [
    "## read edge list with weights for Airport dataset, ignore first row (column names)\n",
    "connections_df = pd.read_csv(datadir + \"Airports/connections.csv\", skiprows = 1, names = [\"origin\", \"destination\", \"passengers\"])\n",
    "## save weights of edges in list by retrieving passenger column info \n",
    "weights = connections_df[\"passengers\"].tolist()\n",
    "## save edges in separate data frame\n",
    "edges = connections_df[['origin', 'destination']]\n",
    "## reformat data frame in readable format for Read_Ncol (.txt file with no headers and no index)\n",
    "edges.to_csv(\"edges.txt\", sep = \" \", index = False, header = False)\n",
    "## create undirected, simple graph using edge list for the network\n",
    "Airport = ig.Graph.Read_Ncol(\"edges.txt\", directed=True)\n",
    "## assign weights to the edges\n",
    "Airport.es['weight'] = weights"
   ]
  },
  {
   "cell_type": "code",
   "execution_count": 339,
   "id": "f50b29d3",
   "metadata": {},
   "outputs": [],
   "source": [
    "## read nodes and their attributes\n",
    "Attr = pd.read_csv(datadir + \"Airports/airports_loc.csv\")\n",
    "## Attr.head()"
   ]
  },
  {
   "cell_type": "code",
   "execution_count": 340,
   "id": "50b1884f",
   "metadata": {},
   "outputs": [],
   "source": [
    "## build attribute dictionaries for each node\n",
    "Longitude = dict(zip(Attr.airport, Attr.lon))\n",
    "Latitude = dict(zip(Attr.airport, Attr.lat))\n",
    "State = dict(zip(Attr.airport, Attr.state))\n",
    "City = dict(zip(Attr.airport, Attr.city))"
   ]
  },
  {
   "cell_type": "code",
   "execution_count": 341,
   "id": "3eddd76e",
   "metadata": {},
   "outputs": [],
   "source": [
    "## Airport.vs[0]"
   ]
  },
  {
   "cell_type": "code",
   "execution_count": 342,
   "id": "c8e6a218",
   "metadata": {},
   "outputs": [],
   "source": [
    "Airport.vs[\"longitude\"] = [Longitude[i] for i in Airport.vs[\"name\"]]\n",
    "Airport.vs[\"latitude\"] = [Latitude[i] for i in Airport.vs[\"name\"]]\n",
    "Airport.vs[\"state\"] = [State[i] for i in Airport.vs[\"name\"]]\n",
    "Airport.vs[\"city\"] = [City[i] for i in Airport.vs[\"name\"]]"
   ]
  },
  {
   "cell_type": "code",
   "execution_count": 343,
   "id": "c475d740",
   "metadata": {},
   "outputs": [
    {
     "name": "stdout",
     "output_type": "stream",
     "text": [
      "Slope of Line: 0.2956875492282546\n"
     ]
    },
    {
     "data": {
      "image/png": "[encoded data removed]",
      "text/plain": [
       "<Figure size 640x480 with 1 Axes>"
      ]
     },
     "metadata": {},
     "output_type": "display_data"
    }
   ],
   "source": [
    "## degree distribution for Airport graph\n",
    "deg = Airport.degree()\n",
    "e = ecdf(deg) ## empirical cdf\n",
    "x = np.arange(1, max(deg), 1)\n",
    "y = [e(i) for i in x]\n",
    "\n",
    "## fit a regression on log-log scale\n",
    "X = [np.log(i) for i in x]\n",
    "Y = [np.log(i) for i in y] \n",
    "regressor = LinearRegression()\n",
    "regressor.fit(np.array(X).reshape(-1, 1), Y)\n",
    "\n",
    "## extract regression coefficients (slope, intercept)\n",
    "a = regressor.coef_[0]\n",
    "b = regressor.intercept_\n",
    "\n",
    "## plot on log-log scale\n",
    "plt.loglog(x, y, \".-\", color = \"grey\")\n",
    "plt.xlabel(\"log (degree)\", fontsize = 14)\n",
    "plt.ylabel(\"log (empirical cdf)\", fontsize = 14)\n",
    "plt.title(\"Airport Network Distribution\");\n",
    "min_deg = min(x)\n",
    "max_deg = max(x)\n",
    "plt.plot([min_deg, max_deg], [np.exp(b) * min_deg**a, np.exp(b) * max_deg**a], color = \"black\")\n",
    "\n",
    "## print slope\n",
    "print(\"Slope of Line:\", a)"
   ]
  },
  {
   "cell_type": "markdown",
   "id": "7d5fb1ce",
   "metadata": {},
   "source": [
    "#### 4b)"
   ]
  },
  {
   "cell_type": "code",
   "execution_count": 344,
   "id": "270dc099",
   "metadata": {},
   "outputs": [
    {
     "name": "stdout",
     "output_type": "stream",
     "text": [
      "The airport with the highest degree is ATL with a degree of 336\n"
     ]
    }
   ],
   "source": [
    "## calculate in-degrees and out-degrees\n",
    "in_degrees = Airport.indegree()  \n",
    "out_degrees = Airport.outdegree()\n",
    "\n",
    "## calculate total degree (in-degree + out-degree)\n",
    "total_degrees = [in_degrees[i] + out_degrees[i] for i in range(len(Airport.vs))]\n",
    "\n",
    "## retrieve index of airport with the max total degree\n",
    "max_degree_index = total_degrees.index(max(total_degrees))\n",
    "## retrieve name of airport with max total degree\n",
    "airport_with_max_degree = Airport.vs[max_degree_index]['name']\n",
    "\n",
    "## print results\n",
    "print(f\"The airport with the highest degree is {airport_with_max_degree} with a degree of {total_degrees[max_degree_index]}\")"
   ]
  },
  {
   "cell_type": "markdown",
   "id": "3f10ad5e",
   "metadata": {},
   "source": [
    "#### 4c)"
   ]
  },
  {
   "cell_type": "code",
   "execution_count": 345,
   "id": "e0bae4c5",
   "metadata": {},
   "outputs": [
    {
     "name": "stdout",
     "output_type": "stream",
     "text": [
      "The number of strongly connected components is: 40\n"
     ]
    }
   ],
   "source": [
    "## retrieve strong connected components in graph\n",
    "scc = Airport.components(mode = \"strong\")\n",
    "## count total # of strong connected components\n",
    "count_scc = len(scc)\n",
    "## print results\n",
    "print(f\"The number of strongly connected components is: {count_scc}\")"
   ]
  },
  {
   "cell_type": "markdown",
   "id": "ac2d4b3c",
   "metadata": {},
   "source": [
    "#### 4d)"
   ]
  },
  {
   "cell_type": "code",
   "execution_count": 347,
   "id": "7b0cf9d8",
   "metadata": {},
   "outputs": [
    {
     "name": "stdout",
     "output_type": "stream",
     "text": [
      "Number of isolated nodes in the subgraph of airports from California: 9\n"
     ]
    }
   ],
   "source": [
    "## extract California airports data\n",
    "california_airports = Attr[Attr[\"state\"] == \"CA\"][\"airport\"].tolist()\n",
    "## induce subgraph\n",
    "california_subgraph = Airport.subgraph(california_airports)\n",
    "## find isolated nodes\n",
    "isolated_nodes = [v.index for v in california_subgraph.vs if california_subgraph.degree(v) == 0]\n",
    "## retrieve number of isolated nodes\n",
    "num_isolated = len(isolated_nodes)\n",
    "print(f\"Number of isolated nodes in the subgraph of airports from California: {num_isolated}\")"
   ]
  },
  {
   "cell_type": "markdown",
   "id": "85d440f7",
   "metadata": {},
   "source": [
    "### Question 4 Analysis"
   ]
  },
  {
   "cell_type": "markdown",
   "id": "2a512d57",
   "metadata": {},
   "source": [
    "The cumulative distribution plot for the Airport network does not extend to very large values for the degrees. The slope of the line found using linear regression is approximately 0.30. The busiest airport with the maximum total degree was found to be ATL with a degree of 336. The number of strongly connected components in the network is 40. The number of isolated nodes in the subgraph of airports from California is 9."
   ]
  },
  {
   "cell_type": "markdown",
   "id": "51a1ec48",
   "metadata": {},
   "source": [
    "### Question 5)"
   ]
  },
  {
   "cell_type": "code",
   "execution_count": 309,
   "id": "146d9881",
   "metadata": {},
   "outputs": [],
   "source": [
    "## read edge list for the grid network and build undirected simple graph\n",
    "EuropeGrid = ig.Graph.Read_Ncol(datadir + \"GridEurope/gridkit_europe-highvoltage.edges\", directed=False)\n",
    "EuropeGrid = EuropeGrid.simplify()"
   ]
  },
  {
   "cell_type": "code",
   "execution_count": 332,
   "id": "32b0c675",
   "metadata": {},
   "outputs": [],
   "source": [
    "## read the nodes and their attributes\n",
    "Attr = pd.read_csv(datadir + \"GridEurope/gridkit_europe-highvoltage.vertices\")\n",
    "## Attr.head()"
   ]
  },
  {
   "cell_type": "code",
   "execution_count": 311,
   "id": "ffaf74ae",
   "metadata": {},
   "outputs": [],
   "source": [
    "## build attribute dictionaries\n",
    "Longitude = dict(zip(Attr.v_id, Attr.lon))\n",
    "Latitude = dict(zip(Attr.v_id, Attr.lat))\n",
    "Type = dict(zip(Attr.v_id, Attr.typ))"
   ]
  },
  {
   "cell_type": "code",
   "execution_count": 312,
   "id": "e54f2907",
   "metadata": {},
   "outputs": [],
   "source": [
    "## map names to integers for easier referencing\n",
    "EuropeGrid.vs[\"id\"] = [int(x) for x in EuropeGrid.vs[\"name\"]]\n",
    "\n",
    "## save longitude, latitude and node type in the graph\n",
    "EuropeGrid.vs[\"longitude\"] = [Longitude[i] for i in EuropeGrid.vs[\"id\"]]\n",
    "EuropeGrid.vs[\"latitude\"] = [Latitude[i] for i in EuropeGrid.vs[\"id\"]]\n",
    "EuropeGrid.vs[\"type\"] = [Type[i] for i in EuropeGrid.vs[\"id\"]]"
   ]
  },
  {
   "cell_type": "code",
   "execution_count": 326,
   "id": "cf3bd048",
   "metadata": {},
   "outputs": [],
   "source": [
    "## create list of nodes and 100 random pairs \n",
    "nodes = list(EuropeGrid.vs)\n",
    "random_pairs = [(random.choice(nodes), random.choice(nodes)) for _ in range(100)]"
   ]
  },
  {
   "cell_type": "code",
   "execution_count": 327,
   "id": "00113a10",
   "metadata": {},
   "outputs": [],
   "source": [
    "## for storing distances\n",
    "graph_distances = []\n",
    "geo_distances = []\n",
    "\n",
    "for _ in range(100):\n",
    "    ## sample 2 random nodes from set of 100 verticies\n",
    "    node1, node2 = random.sample(V.tolist(), 2) \n",
    "    \n",
    "    ## get graph distance of nodes using shortest paths\n",
    "    graph_dist = EuropeGrid.distances(source = node1, target = node2)[0][0]\n",
    "    graph_distances.append(graph_dist)\n",
    "    \n",
    "    ## get longitude and latitude of each pair nodes\n",
    "    lat1, lon1 = EuropeGrid.vs[node1][\"latitude\"], EuropeGrid.vs[node1][\"longitude\"]\n",
    "    lat2, lon2 = EuropeGrid.vs[node2][\"latitude\"], EuropeGrid.vs[node2][\"longitude\"]\n",
    "    \n",
    "    ## calculate geographical distance in kilometers using geodesic\n",
    "    geo_dist = geodesic((lat1, lon1), (lat2, lon2)).km \n",
    "    geo_distances.append(geo_dist)"
   ]
  },
  {
   "cell_type": "code",
   "execution_count": 333,
   "id": "b608c9c9",
   "metadata": {},
   "outputs": [
    {
     "data": {
      "image/png": "[encoded data removed]",
      "text/plain": [
       "<Figure size 640x480 with 1 Axes>"
      ]
     },
     "metadata": {},
     "output_type": "display_data"
    }
   ],
   "source": [
    "plt.scatter(graph_distances, geo_distances)\n",
    "plt.xlabel('Graph Distance', fontsize = 14)\n",
    "plt.ylabel('Geographical Distance (km)', fontsize = 14)\n",
    "plt.title('Graph Distance vs Geographical Distance')\n",
    "plt.grid(True)\n",
    "plt.show()"
   ]
  },
  {
   "cell_type": "code",
   "execution_count": 351,
   "id": "491d7ed7",
   "metadata": {},
   "outputs": [
    {
     "name": "stdout",
     "output_type": "stream",
     "text": [
      "                graph_distance  geo_distance\n",
      "graph_distance        1.000000      0.766578\n",
      "geo_distance          0.766578      1.000000\n"
     ]
    }
   ],
   "source": [
    "correlation = pd.DataFrame({\"graph_distance\": graph_distances, \"geo_distance\": geo_distances}).corr()\n",
    "print(correlation)"
   ]
  },
  {
   "cell_type": "markdown",
   "id": "b6df9165",
   "metadata": {},
   "source": [
    "### Question 5 Analysis"
   ]
  },
  {
   "cell_type": "markdown",
   "id": "4bf46226",
   "metadata": {},
   "source": [
    "Based on the graph generated by the code, it can be said that there is there is a positive correlation between the graph distance and the geographical distance. The graph is trending upwards, showing a increase, positive relation. This indicates that as the graph distance increases, the geographical distance increases as well. From the correlation matrix calculation it is evident that the two variables have a postive correlation (0.766578)."
   ]
  },
  {
   "cell_type": "markdown",
   "id": "ede674d2",
   "metadata": {},
   "source": [
    "### Question 7)"
   ]
  },
  {
   "cell_type": "code",
   "execution_count": 329,
   "id": "63884cd7",
   "metadata": {},
   "outputs": [],
   "source": [
    "## read the GitHub edge list as tuples and build undirected graph\n",
    "df = pd.read_csv(datadir + \"GitHubDevelopers/musae_git_edges.csv\") # read data in data frame using pandas\n",
    "GitHubGraph = ig.Graph.TupleList(\n",
    "    [tuple(x) for x in df.values], directed=False, vertex_name_attr=\"id\"\n",
    ")"
   ]
  },
  {
   "cell_type": "code",
   "execution_count": 348,
   "id": "9e32154a",
   "metadata": {},
   "outputs": [],
   "source": [
    "## read node attributes\n",
    "Attr = pd.read_csv(datadir + \"GitHubDevelopers/musae_git_target.csv\")\n",
    "## Attr.head()"
   ]
  },
  {
   "cell_type": "code",
   "execution_count": 215,
   "id": "e0143095",
   "metadata": {},
   "outputs": [],
   "source": [
    "## build attribute dictionaries\n",
    "Names = dict(zip(Attr.id, Attr.name))\n",
    "ML = dict(zip(Attr.id, Attr.ml_target))"
   ]
  },
  {
   "cell_type": "code",
   "execution_count": 216,
   "id": "8525139c",
   "metadata": {},
   "outputs": [],
   "source": [
    "## add name attributes to graph\n",
    "GitHubGraph.vs[\"name\"] = [Names[i] for i in GitHubGraph.vs[\"id\"]]\n",
    "\n",
    "## add a class: 'ml' or 'web' depending on attribute 'ml_label'\n",
    "labels = [\"web\", \"ml\"]\n",
    "GitHubGraph.vs[\"class\"] = [labels[ML[i]] for i in GitHubGraph.vs[\"id\"]]"
   ]
  },
  {
   "cell_type": "code",
   "execution_count": 217,
   "id": "8ca083cd",
   "metadata": {},
   "outputs": [],
   "source": [
    "## build subgraphs\n",
    "subgraph_ml = GitHubGraph.subgraph([v for v in GitHubGraph.vs() if v[\"class\"] == \"ml\"])\n",
    "subgraph_web = GitHubGraph.subgraph([v for v in GitHubGraph.vs() if v[\"class\"] == \"web\"])"
   ]
  },
  {
   "cell_type": "code",
   "execution_count": 225,
   "id": "9c652ad2",
   "metadata": {},
   "outputs": [],
   "source": [
    "## compute and store basic statistics in a dataframe\n",
    "def baseStats(G):\n",
    "    deg = G.degree()\n",
    "    return [ \n",
    "        G.transitivity_avglocal_undirected(mode=\"nan\"), # Method 1 - Excludes nodes with degree 0 or 1\n",
    "        G.transitivity_avglocal_undirected(mode=\"zero\") # Method 2 - Assigns 0 to nodes with degree 0 or 1\n",
    "    ]"
   ]
  },
  {
   "cell_type": "code",
   "execution_count": 226,
   "id": "2787a9db",
   "metadata": {},
   "outputs": [
    {
     "name": "stdout",
     "output_type": "stream",
     "text": [
      "CPU times: user 228 ms, sys: 26.2 ms, total: 254 ms\n",
      "Wall time: 262 ms\n"
     ]
    }
   ],
   "source": [
    "%%time\n",
    "## compute local clustering coefficients for the 4 graphs\n",
    "S = []\n",
    "S.append([\"GitHub\"] + baseStats(GitHubGraph))\n",
    "S.append([\"GitHub (ml)\"] + baseStats(subgraph_ml))\n",
    "S.append([\"GitHub (web)\"] + baseStats(subgraph_web))\n",
    "S.append([\"Grid\"] + baseStats(Grid))"
   ]
  },
  {
   "cell_type": "code",
   "execution_count": 227,
   "id": "6bfb691b",
   "metadata": {},
   "outputs": [
    {
     "data": {
      "text/html": [
       "<div>\n",
       "<style scoped>\n",
       "    .dataframe tbody tr th:only-of-type {\n",
       "        vertical-align: middle;\n",
       "    }\n",
       "\n",
       "    .dataframe tbody tr th {\n",
       "        vertical-align: top;\n",
       "    }\n",
       "\n",
       "    .dataframe thead th {\n",
       "        text-align: right;\n",
       "    }\n",
       "</style>\n",
       "<table border=\"1\" class=\"dataframe\">\n",
       "  <thead>\n",
       "    <tr style=\"text-align: right;\">\n",
       "      <th></th>\n",
       "      <th>0</th>\n",
       "      <th>1</th>\n",
       "      <th>2</th>\n",
       "      <th>3</th>\n",
       "    </tr>\n",
       "  </thead>\n",
       "  <tbody>\n",
       "    <tr>\n",
       "      <th>network</th>\n",
       "      <td>GitHub</td>\n",
       "      <td>GitHub (ml)</td>\n",
       "      <td>GitHub (web)</td>\n",
       "      <td>Grid</td>\n",
       "    </tr>\n",
       "    <tr>\n",
       "      <th>$C_{loc1}$</th>\n",
       "      <td>0.193421</td>\n",
       "      <td>0.141246</td>\n",
       "      <td>0.207105</td>\n",
       "      <td>0.112638</td>\n",
       "    </tr>\n",
       "    <tr>\n",
       "      <th>$C_{loc2}$</th>\n",
       "      <td>0.167537</td>\n",
       "      <td>0.071921</td>\n",
       "      <td>0.179174</td>\n",
       "      <td>0.089499</td>\n",
       "    </tr>\n",
       "  </tbody>\n",
       "</table>\n",
       "</div>"
      ],
      "text/plain": [
       "                   0            1             2         3\n",
       "network       GitHub  GitHub (ml)  GitHub (web)      Grid\n",
       "$C_{loc1}$  0.193421     0.141246      0.207105  0.112638\n",
       "$C_{loc2}$  0.167537     0.071921      0.179174  0.089499"
      ]
     },
     "execution_count": 227,
     "metadata": {},
     "output_type": "execute_result"
    }
   ],
   "source": [
    "## store in a dataframe\n",
    "df = pd.DataFrame(\n",
    "    S,\n",
    "    columns=[\n",
    "        \"network\",\n",
    "        r\"$C_{loc1}$\",\n",
    "        r\"$C_{loc2}$\",\n",
    "    ],\n",
    ").transpose()\n",
    "df"
   ]
  },
  {
   "cell_type": "markdown",
   "id": "dfe0686c",
   "metadata": {},
   "source": [
    "### Question 7 Analysis"
   ]
  },
  {
   "cell_type": "markdown",
   "id": "d0a24a59",
   "metadata": {},
   "source": [
    "Based on the results shown in the table, the local clustering coefficients differ based on the method used for calculation. The first method ignores nodes of degree 0 or 1; the second method assigns c(v) = 0 to these nodes. It is shown that the second method results in smaller clustering coefficients. This makes sense because method 2 includes more nodes (many of which have c(v) = 0 or 1), and as a result the clustering coefficient will always be smaller than the one obtained using method 1 because those nodes would bring the overall average down."
   ]
  }
 ],
 "metadata": {
  "kernelspec": {
   "display_name": "Python [conda env:complexnetworks] *",
   "language": "python",
   "name": "conda-env-complexnetworks-py"
  },
  "language_info": {
   "codemirror_mode": {
    "name": "ipython",
    "version": 3
   },
   "file_extension": ".py",
   "mimetype": "text/x-python",
   "name": "python",
   "nbconvert_exporter": "python",
   "pygments_lexer": "ipython3",
   "version": "3.11.11"
  }
 },
 "nbformat": 4,
 "nbformat_minor": 5
}
